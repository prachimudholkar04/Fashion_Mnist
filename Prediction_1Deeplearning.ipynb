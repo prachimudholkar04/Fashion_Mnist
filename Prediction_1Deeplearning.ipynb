{
  "nbformat": 4,
  "nbformat_minor": 0,
  "metadata": {
    "colab": {
      "provenance": [],
      "authorship_tag": "ABX9TyPq6IBsKOJxD98bG3VdX9Tm",
      "include_colab_link": true
    },
    "kernelspec": {
      "name": "python3",
      "display_name": "Python 3"
    },
    "language_info": {
      "name": "python"
    }
  },
  "cells": [
    {
      "cell_type": "markdown",
      "metadata": {
        "id": "view-in-github",
        "colab_type": "text"
      },
      "source": [
        "<a href=\"https://colab.research.google.com/github/prachimudholkar04/Fashion_Mnist/blob/main/Prediction_1Deeplearning.ipynb\" target=\"_parent\"><img src=\"https://colab.research.google.com/assets/colab-badge.svg\" alt=\"Open In Colab\"/></a>"
      ]
    },
    {
      "cell_type": "code",
      "execution_count": null,
      "metadata": {
        "id": "2T2DdrcSAnmP"
      },
      "outputs": [],
      "source": [
        "import tensorflow as tf\n",
        "from tensorflow import keras\n",
        "import matplotlib.pyplot as plt"
      ]
    },
    {
      "cell_type": "code",
      "source": [
        "(X_train_images, y_train_labels), (X_test_images, y_test_labels) = tf.keras.datasets.fashion_mnist.load_data()"
      ],
      "metadata": {
        "colab": {
          "base_uri": "https://localhost:8080/"
        },
        "id": "VbCBRlamA3sq",
        "outputId": "6d497aac-2330-4020-9bb2-9e36edb0ede6"
      },
      "execution_count": null,
      "outputs": [
        {
          "output_type": "stream",
          "name": "stdout",
          "text": [
            "Downloading data from https://storage.googleapis.com/tensorflow/tf-keras-datasets/train-labels-idx1-ubyte.gz\n",
            "29515/29515 [==============================] - 0s 0us/step\n",
            "Downloading data from https://storage.googleapis.com/tensorflow/tf-keras-datasets/train-images-idx3-ubyte.gz\n",
            "26421880/26421880 [==============================] - 0s 0us/step\n",
            "Downloading data from https://storage.googleapis.com/tensorflow/tf-keras-datasets/t10k-labels-idx1-ubyte.gz\n",
            "5148/5148 [==============================] - 0s 0us/step\n",
            "Downloading data from https://storage.googleapis.com/tensorflow/tf-keras-datasets/t10k-images-idx3-ubyte.gz\n",
            "4422102/4422102 [==============================] - 0s 0us/step\n"
          ]
        }
      ]
    },
    {
      "cell_type": "code",
      "source": [
        "# Define class names\n",
        "class_names = ['T-shirt/top', 'Trouser', 'Pullover', 'Dress', 'Coat', \n",
        "               'Sandal', 'Shirt', 'Sneaker', 'Bag', 'Ankle boot']"
      ],
      "metadata": {
        "id": "1BJCXD0MA7tT"
      },
      "execution_count": null,
      "outputs": []
    },
    {
      "cell_type": "code",
      "source": [
        "# Normalize the data\n",
        "train_images = X_train_images / 255.0\n",
        "test_images = X_test_images / 255.0"
      ],
      "metadata": {
        "id": "bNaXTQyzA8PZ"
      },
      "execution_count": null,
      "outputs": []
    },
    {
      "cell_type": "code",
      "source": [
        "\n",
        "# #Display the first 25 images from the training set\n",
        "# plt.figure(figsize=(10,10))\n",
        "# for i in range(25):\n",
        "#     plt.subplot(5,5,i+1)\n",
        "#     plt.xticks([])\n",
        "#     plt.yticks([])\n",
        "#     plt.grid(False)\n",
        "#     plt.imshow(X_train_images[i], cmap=plt.cm.binary)\n",
        "#     plt.xlabel(class_names[y_train_labels[i]])\n",
        "# plt.show()"
      ],
      "metadata": {
        "id": "-gWwqiiSA_1x"
      },
      "execution_count": null,
      "outputs": []
    },
    {
      "cell_type": "code",
      "source": [
        "#Define the model architecture\n",
        "model1 = keras.Sequential([\n",
        "    keras.layers.Flatten(input_shape=(28, 28)),\n",
        "    keras.layers.Dense(128, activation='relu'),\n",
        "    keras.layers.Dropout(0.15),\n",
        "    keras.layers.Dense(64, activation='relu'),\n",
        "    keras.layers.Dropout(0.15),\n",
        "    keras.layers.Dense(10, activation='softmax')\n",
        "])\n"
      ],
      "metadata": {
        "id": "JuKZRWWWSKAy"
      },
      "execution_count": null,
      "outputs": []
    },
    {
      "cell_type": "code",
      "source": [
        "# Compile the model\n",
        "model1.compile(optimizer='adam',\n",
        "              loss='sparse_categorical_crossentropy',\n",
        "              metrics=['accuracy'])"
      ],
      "metadata": {
        "id": "sPdvjBpFUNaE"
      },
      "execution_count": null,
      "outputs": []
    },
    {
      "cell_type": "code",
      "source": [
        "# train the model as usual\n",
        "history = model1.fit(X_train_images, y_train_labels, epochs = 50,batch_size = 1000, validation_data = (X_test_images, y_test_labels))"
      ],
      "metadata": {
        "colab": {
          "base_uri": "https://localhost:8080/"
        },
        "id": "PmdsZ_16UQQD",
        "outputId": "021459a1-43af-4bba-fe88-420b3147c072"
      },
      "execution_count": null,
      "outputs": [
        {
          "output_type": "stream",
          "name": "stdout",
          "text": [
            "Epoch 1/50\n",
            "60/60 [==============================] - 2s 19ms/step - loss: 20.3187 - accuracy: 0.4685 - val_loss: 1.7797 - val_accuracy: 0.6165\n",
            "Epoch 2/50\n",
            "60/60 [==============================] - 1s 15ms/step - loss: 2.4754 - accuracy: 0.5458 - val_loss: 1.2267 - val_accuracy: 0.6190\n",
            "Epoch 3/50\n",
            "60/60 [==============================] - 1s 16ms/step - loss: 1.6041 - accuracy: 0.5806 - val_loss: 0.9059 - val_accuracy: 0.6904\n",
            "Epoch 4/50\n",
            "60/60 [==============================] - 1s 16ms/step - loss: 1.2658 - accuracy: 0.6127 - val_loss: 0.8140 - val_accuracy: 0.6931\n",
            "Epoch 5/50\n",
            "60/60 [==============================] - 1s 16ms/step - loss: 1.0931 - accuracy: 0.6306 - val_loss: 0.7599 - val_accuracy: 0.7021\n",
            "Epoch 6/50\n",
            "60/60 [==============================] - 1s 16ms/step - loss: 0.9942 - accuracy: 0.6426 - val_loss: 0.7404 - val_accuracy: 0.7027\n",
            "Epoch 7/50\n",
            "60/60 [==============================] - 1s 20ms/step - loss: 0.9256 - accuracy: 0.6603 - val_loss: 0.7155 - val_accuracy: 0.7156\n",
            "Epoch 8/50\n",
            "60/60 [==============================] - 1s 24ms/step - loss: 0.8715 - accuracy: 0.6697 - val_loss: 0.6838 - val_accuracy: 0.7234\n",
            "Epoch 9/50\n",
            "60/60 [==============================] - 1s 16ms/step - loss: 0.8434 - accuracy: 0.6795 - val_loss: 0.6652 - val_accuracy: 0.7343\n",
            "Epoch 10/50\n",
            "60/60 [==============================] - 1s 16ms/step - loss: 0.8069 - accuracy: 0.6856 - val_loss: 0.6546 - val_accuracy: 0.7341\n",
            "Epoch 11/50\n",
            "60/60 [==============================] - 1s 16ms/step - loss: 0.7814 - accuracy: 0.6929 - val_loss: 0.6423 - val_accuracy: 0.7417\n",
            "Epoch 12/50\n",
            "60/60 [==============================] - 1s 16ms/step - loss: 0.7505 - accuracy: 0.6992 - val_loss: 0.6298 - val_accuracy: 0.7438\n",
            "Epoch 13/50\n",
            "60/60 [==============================] - 1s 16ms/step - loss: 0.7321 - accuracy: 0.7067 - val_loss: 0.6157 - val_accuracy: 0.7511\n",
            "Epoch 14/50\n",
            "60/60 [==============================] - 1s 19ms/step - loss: 0.7200 - accuracy: 0.7123 - val_loss: 0.6080 - val_accuracy: 0.7628\n",
            "Epoch 15/50\n",
            "60/60 [==============================] - 1s 24ms/step - loss: 0.6967 - accuracy: 0.7201 - val_loss: 0.5958 - val_accuracy: 0.7754\n",
            "Epoch 16/50\n",
            "60/60 [==============================] - 1s 17ms/step - loss: 0.6853 - accuracy: 0.7250 - val_loss: 0.5930 - val_accuracy: 0.7762\n",
            "Epoch 17/50\n",
            "60/60 [==============================] - 1s 16ms/step - loss: 0.6731 - accuracy: 0.7329 - val_loss: 0.5815 - val_accuracy: 0.7771\n",
            "Epoch 18/50\n",
            "60/60 [==============================] - 1s 21ms/step - loss: 0.6621 - accuracy: 0.7380 - val_loss: 0.5819 - val_accuracy: 0.7746\n",
            "Epoch 19/50\n",
            "60/60 [==============================] - 1s 24ms/step - loss: 0.6480 - accuracy: 0.7443 - val_loss: 0.5730 - val_accuracy: 0.7843\n",
            "Epoch 20/50\n",
            "60/60 [==============================] - 1s 17ms/step - loss: 0.6450 - accuracy: 0.7480 - val_loss: 0.5638 - val_accuracy: 0.7820\n",
            "Epoch 21/50\n",
            "60/60 [==============================] - 1s 17ms/step - loss: 0.6332 - accuracy: 0.7517 - val_loss: 0.5645 - val_accuracy: 0.7729\n",
            "Epoch 22/50\n",
            "60/60 [==============================] - 1s 16ms/step - loss: 0.6200 - accuracy: 0.7567 - val_loss: 0.5609 - val_accuracy: 0.7853\n",
            "Epoch 23/50\n",
            "60/60 [==============================] - 1s 16ms/step - loss: 0.6164 - accuracy: 0.7589 - val_loss: 0.5510 - val_accuracy: 0.7892\n",
            "Epoch 24/50\n",
            "60/60 [==============================] - 1s 16ms/step - loss: 0.6054 - accuracy: 0.7650 - val_loss: 0.5486 - val_accuracy: 0.7906\n",
            "Epoch 25/50\n",
            "60/60 [==============================] - 1s 16ms/step - loss: 0.5962 - accuracy: 0.7689 - val_loss: 0.5375 - val_accuracy: 0.7922\n",
            "Epoch 26/50\n",
            "60/60 [==============================] - 1s 16ms/step - loss: 0.5933 - accuracy: 0.7691 - val_loss: 0.5397 - val_accuracy: 0.7937\n",
            "Epoch 27/50\n",
            "60/60 [==============================] - 1s 16ms/step - loss: 0.5842 - accuracy: 0.7732 - val_loss: 0.5337 - val_accuracy: 0.7983\n",
            "Epoch 28/50\n",
            "60/60 [==============================] - 1s 17ms/step - loss: 0.5782 - accuracy: 0.7762 - val_loss: 0.5382 - val_accuracy: 0.7975\n",
            "Epoch 29/50\n",
            "60/60 [==============================] - 1s 16ms/step - loss: 0.5659 - accuracy: 0.7805 - val_loss: 0.5336 - val_accuracy: 0.8006\n",
            "Epoch 30/50\n",
            "60/60 [==============================] - 1s 23ms/step - loss: 0.5658 - accuracy: 0.7823 - val_loss: 0.5281 - val_accuracy: 0.7998\n",
            "Epoch 31/50\n",
            "60/60 [==============================] - 1s 20ms/step - loss: 0.5586 - accuracy: 0.7847 - val_loss: 0.5173 - val_accuracy: 0.8005\n",
            "Epoch 32/50\n",
            "60/60 [==============================] - 1s 16ms/step - loss: 0.5503 - accuracy: 0.7853 - val_loss: 0.5155 - val_accuracy: 0.8053\n",
            "Epoch 33/50\n",
            "60/60 [==============================] - 1s 16ms/step - loss: 0.5492 - accuracy: 0.7891 - val_loss: 0.5120 - val_accuracy: 0.8047\n",
            "Epoch 34/50\n",
            "60/60 [==============================] - 1s 16ms/step - loss: 0.5346 - accuracy: 0.7914 - val_loss: 0.5159 - val_accuracy: 0.8061\n",
            "Epoch 35/50\n",
            "60/60 [==============================] - 1s 15ms/step - loss: 0.5312 - accuracy: 0.7922 - val_loss: 0.5071 - val_accuracy: 0.8077\n",
            "Epoch 36/50\n",
            "60/60 [==============================] - 1s 16ms/step - loss: 0.5273 - accuracy: 0.7951 - val_loss: 0.5107 - val_accuracy: 0.8058\n",
            "Epoch 37/50\n",
            "60/60 [==============================] - 1s 17ms/step - loss: 0.5218 - accuracy: 0.7977 - val_loss: 0.4989 - val_accuracy: 0.8123\n",
            "Epoch 38/50\n",
            "60/60 [==============================] - 1s 16ms/step - loss: 0.5179 - accuracy: 0.7972 - val_loss: 0.4932 - val_accuracy: 0.8117\n",
            "Epoch 39/50\n",
            "60/60 [==============================] - 1s 16ms/step - loss: 0.5128 - accuracy: 0.7981 - val_loss: 0.4952 - val_accuracy: 0.8133\n",
            "Epoch 40/50\n",
            "60/60 [==============================] - 1s 16ms/step - loss: 0.5079 - accuracy: 0.7998 - val_loss: 0.4934 - val_accuracy: 0.8168\n",
            "Epoch 41/50\n",
            "60/60 [==============================] - 1s 17ms/step - loss: 0.4990 - accuracy: 0.8025 - val_loss: 0.4853 - val_accuracy: 0.8160\n",
            "Epoch 42/50\n",
            "60/60 [==============================] - 1s 24ms/step - loss: 0.4974 - accuracy: 0.8033 - val_loss: 0.4802 - val_accuracy: 0.8170\n",
            "Epoch 43/50\n",
            "60/60 [==============================] - 1s 18ms/step - loss: 0.4915 - accuracy: 0.8040 - val_loss: 0.4890 - val_accuracy: 0.8261\n",
            "Epoch 44/50\n",
            "60/60 [==============================] - 1s 17ms/step - loss: 0.4858 - accuracy: 0.8053 - val_loss: 0.4786 - val_accuracy: 0.8194\n",
            "Epoch 45/50\n",
            "60/60 [==============================] - 1s 16ms/step - loss: 0.4803 - accuracy: 0.8086 - val_loss: 0.4749 - val_accuracy: 0.8198\n",
            "Epoch 46/50\n",
            "60/60 [==============================] - 1s 16ms/step - loss: 0.4792 - accuracy: 0.8129 - val_loss: 0.4760 - val_accuracy: 0.8237\n",
            "Epoch 47/50\n",
            "60/60 [==============================] - 1s 16ms/step - loss: 0.4613 - accuracy: 0.8223 - val_loss: 0.4587 - val_accuracy: 0.8417\n",
            "Epoch 48/50\n",
            "60/60 [==============================] - 1s 16ms/step - loss: 0.4508 - accuracy: 0.8287 - val_loss: 0.4462 - val_accuracy: 0.8434\n",
            "Epoch 49/50\n",
            "60/60 [==============================] - 1s 16ms/step - loss: 0.4481 - accuracy: 0.8313 - val_loss: 0.4490 - val_accuracy: 0.8414\n",
            "Epoch 50/50\n",
            "60/60 [==============================] - 1s 16ms/step - loss: 0.4370 - accuracy: 0.8363 - val_loss: 0.4441 - val_accuracy: 0.8479\n"
          ]
        }
      ]
    },
    {
      "cell_type": "code",
      "source": [
        "# Evaluate the model\n",
        "test_loss, test_acc = model1.evaluate(X_test_images, y_test_labels, verbose=2)\n",
        "print('Test accuracy:', test_acc)"
      ],
      "metadata": {
        "colab": {
          "base_uri": "https://localhost:8080/"
        },
        "id": "lHaroFgJVEq_",
        "outputId": "a555f6fd-e34c-48e6-aa4e-80284a4ce190"
      },
      "execution_count": null,
      "outputs": [
        {
          "output_type": "stream",
          "name": "stdout",
          "text": [
            "313/313 - 1s - loss: 0.4441 - accuracy: 0.8479 - 578ms/epoch - 2ms/step\n",
            "Test accuracy: 0.8478999733924866\n"
          ]
        }
      ]
    },
    {
      "cell_type": "code",
      "source": [
        "\n",
        "# summarize the history for accuracy\n",
        "plt.plot(history.history['accuracy'])\n",
        "plt.plot(history.history['val_accuracy'])\n",
        "plt.title('model accuracy')\n",
        "plt.ylabel('accuracy')\n",
        "plt.xlabel('epoch')\n",
        "plt.legend(['train','test'], loc='upper left')\n",
        "plt.show()\n",
        "\n",
        "# summarize the history for loss\n",
        "plt.plot(history.history['loss'])\n",
        "plt.plot(history.history['val_loss'])\n",
        "plt.title('model loss')\n",
        "plt.ylabel('loss')\n",
        "plt.xlabel('epoch')\n",
        "plt.legend(['train','test'], loc='upper left')\n",
        "plt.show()"
      ],
      "metadata": {
        "colab": {
          "base_uri": "https://localhost:8080/",
          "height": 594
        },
        "id": "3BK7g0njU802",
        "outputId": "fe88867f-905f-41c9-be33-a833855f639d"
      },
      "execution_count": null,
      "outputs": [
        {
          "output_type": "display_data",
          "data": {
            "text/plain": [
              "<Figure size 432x288 with 1 Axes>"
            ],
            "image/png": "[encoded data removed]"
          },
          "metadata": {
            "needs_background": "light"
          }
        },
        {
          "output_type": "display_data",
          "data": {
            "text/plain": [
              "<Figure size 432x288 with 1 Axes>"
            ],
            "image/png": "[encoded data removed]"
          },
          "metadata": {
            "needs_background": "light"
          }
        }
      ]
    },
    {
      "cell_type": "code",
      "source": [
        "model1.summary()"
      ],
      "metadata": {
        "colab": {
          "base_uri": "https://localhost:8080/"
        },
        "id": "EeIogKq6VVDR",
        "outputId": "5f228ca6-0aff-4c0b-ccc4-718f94bcd3b0"
      },
      "execution_count": null,
      "outputs": [
        {
          "output_type": "stream",
          "name": "stdout",
          "text": [
            "Model: \"sequential_4\"\n",
            "_________________________________________________________________\n",
            " Layer (type)                Output Shape              Param #   \n",
            "=================================================================\n",
            " flatten_4 (Flatten)         (None, 784)               0         \n",
            "                                                                 \n",
            " dense_13 (Dense)            (None, 128)               100480    \n",
            "                                                                 \n",
            " dropout_11 (Dropout)        (None, 128)               0         \n",
            "                                                                 \n",
            " dense_14 (Dense)            (None, 64)                8256      \n",
            "                                                                 \n",
            " dropout_12 (Dropout)        (None, 64)                0         \n",
            "                                                                 \n",
            " dense_15 (Dense)            (None, 10)                650       \n",
            "                                                                 \n",
            "=================================================================\n",
            "Total params: 109,386\n",
            "Trainable params: 109,386\n",
            "Non-trainable params: 0\n",
            "_________________________________________________________________\n"
          ]
        }
      ]
    },
    {
      "cell_type": "code",
      "source": [
        "# Build the model8\n",
        "model = keras.Sequential([\n",
        "    keras.layers.Flatten(input_shape=(28, 28)),\n",
        "    keras.layers.Dropout(0.2),\n",
        "    keras.layers.Dense(784, activation='relu'),\n",
        "    keras.layers.Dropout(0.2),\n",
        "    keras.layers.Dense(392, activation='relu'),\n",
        "    keras.layers.Dropout(0.2),\n",
        "    keras.layers.Dense(10, activation='softmax')\n",
        "])"
      ],
      "metadata": {
        "id": "FHmywnfcBAlR"
      },
      "execution_count": null,
      "outputs": []
    },
    {
      "cell_type": "code",
      "source": [
        "# Compile the model\n",
        "model.compile(optimizer='adam',\n",
        "              loss='sparse_categorical_crossentropy',\n",
        "              metrics=['accuracy'])"
      ],
      "metadata": {
        "id": "kI2WJygeBIL3"
      },
      "execution_count": null,
      "outputs": []
    },
    {
      "cell_type": "code",
      "source": [
        "# train the model as usual\n",
        "history = model.fit(X_train_images, y_train_labels, epochs = 50,batch_size = 1000, validation_data = (X_test_images, y_test_labels))"
      ],
      "metadata": {
        "colab": {
          "base_uri": "https://localhost:8080/"
        },
        "id": "x796ks_sBI9S",
        "outputId": "93b57dd4-9418-4073-8ed4-7972071a8cbb"
      },
      "execution_count": null,
      "outputs": [
        {
          "output_type": "stream",
          "name": "stdout",
          "text": [
            "Epoch 1/50\n",
            "60/60 [==============================] - 7s 102ms/step - loss: 23.1860 - accuracy: 0.6101 - val_loss: 0.9277 - val_accuracy: 0.6718\n",
            "Epoch 2/50\n",
            "60/60 [==============================] - 6s 99ms/step - loss: 1.4578 - accuracy: 0.6261 - val_loss: 0.8296 - val_accuracy: 0.6769\n",
            "Epoch 3/50\n",
            "60/60 [==============================] - 5s 84ms/step - loss: 1.0099 - accuracy: 0.6662 - val_loss: 0.7245 - val_accuracy: 0.7146\n",
            "Epoch 4/50\n",
            "60/60 [==============================] - 6s 98ms/step - loss: 0.8824 - accuracy: 0.6912 - val_loss: 0.6768 - val_accuracy: 0.7457\n",
            "Epoch 5/50\n",
            "60/60 [==============================] - 5s 85ms/step - loss: 0.8084 - accuracy: 0.7128 - val_loss: 0.6325 - val_accuracy: 0.7547\n",
            "Epoch 6/50\n",
            "60/60 [==============================] - 6s 98ms/step - loss: 0.7505 - accuracy: 0.7302 - val_loss: 0.5897 - val_accuracy: 0.7729\n",
            "Epoch 7/50\n",
            "60/60 [==============================] - 5s 84ms/step - loss: 0.6975 - accuracy: 0.7459 - val_loss: 0.5609 - val_accuracy: 0.7895\n",
            "Epoch 8/50\n",
            "60/60 [==============================] - 6s 107ms/step - loss: 0.6669 - accuracy: 0.7581 - val_loss: 0.5306 - val_accuracy: 0.7995\n",
            "Epoch 9/50\n",
            "60/60 [==============================] - 5s 82ms/step - loss: 0.6365 - accuracy: 0.7682 - val_loss: 0.5044 - val_accuracy: 0.8115\n",
            "Epoch 10/50\n",
            "60/60 [==============================] - 6s 106ms/step - loss: 0.6100 - accuracy: 0.7786 - val_loss: 0.4897 - val_accuracy: 0.8169\n",
            "Epoch 11/50\n",
            "60/60 [==============================] - 5s 91ms/step - loss: 0.5880 - accuracy: 0.7875 - val_loss: 0.4763 - val_accuracy: 0.8248\n",
            "Epoch 12/50\n",
            "60/60 [==============================] - 5s 84ms/step - loss: 0.5676 - accuracy: 0.7930 - val_loss: 0.4727 - val_accuracy: 0.8294\n",
            "Epoch 13/50\n",
            "60/60 [==============================] - 6s 99ms/step - loss: 0.5540 - accuracy: 0.7991 - val_loss: 0.4653 - val_accuracy: 0.8280\n",
            "Epoch 14/50\n",
            "60/60 [==============================] - 5s 84ms/step - loss: 0.5384 - accuracy: 0.8024 - val_loss: 0.4446 - val_accuracy: 0.8356\n",
            "Epoch 15/50\n",
            "60/60 [==============================] - 6s 98ms/step - loss: 0.5222 - accuracy: 0.8086 - val_loss: 0.4477 - val_accuracy: 0.8340\n",
            "Epoch 16/50\n",
            "60/60 [==============================] - 5s 83ms/step - loss: 0.5114 - accuracy: 0.8128 - val_loss: 0.4388 - val_accuracy: 0.8374\n",
            "Epoch 17/50\n",
            "60/60 [==============================] - 6s 98ms/step - loss: 0.4993 - accuracy: 0.8171 - val_loss: 0.4319 - val_accuracy: 0.8427\n",
            "Epoch 18/50\n",
            "60/60 [==============================] - 5s 84ms/step - loss: 0.4927 - accuracy: 0.8205 - val_loss: 0.4197 - val_accuracy: 0.8482\n",
            "Epoch 19/50\n",
            "60/60 [==============================] - 6s 104ms/step - loss: 0.4854 - accuracy: 0.8220 - val_loss: 0.4329 - val_accuracy: 0.8385\n",
            "Epoch 20/50\n",
            "60/60 [==============================] - 6s 91ms/step - loss: 0.4742 - accuracy: 0.8252 - val_loss: 0.4158 - val_accuracy: 0.8479\n",
            "Epoch 21/50\n",
            "60/60 [==============================] - 5s 84ms/step - loss: 0.4663 - accuracy: 0.8285 - val_loss: 0.4085 - val_accuracy: 0.8534\n",
            "Epoch 22/50\n",
            "60/60 [==============================] - 6s 97ms/step - loss: 0.4595 - accuracy: 0.8310 - val_loss: 0.4048 - val_accuracy: 0.8519\n",
            "Epoch 23/50\n",
            "60/60 [==============================] - 5s 83ms/step - loss: 0.4592 - accuracy: 0.8323 - val_loss: 0.3965 - val_accuracy: 0.8545\n",
            "Epoch 24/50\n",
            "60/60 [==============================] - 6s 98ms/step - loss: 0.4502 - accuracy: 0.8341 - val_loss: 0.3981 - val_accuracy: 0.8556\n",
            "Epoch 25/50\n",
            "60/60 [==============================] - 5s 84ms/step - loss: 0.4462 - accuracy: 0.8366 - val_loss: 0.3939 - val_accuracy: 0.8588\n",
            "Epoch 26/50\n",
            "60/60 [==============================] - 6s 99ms/step - loss: 0.4399 - accuracy: 0.8389 - val_loss: 0.3948 - val_accuracy: 0.8556\n",
            "Epoch 27/50\n",
            "60/60 [==============================] - 5s 84ms/step - loss: 0.4355 - accuracy: 0.8410 - val_loss: 0.3927 - val_accuracy: 0.8605\n",
            "Epoch 28/50\n",
            "60/60 [==============================] - 6s 109ms/step - loss: 0.4295 - accuracy: 0.8408 - val_loss: 0.3866 - val_accuracy: 0.8582\n",
            "Epoch 29/50\n",
            "60/60 [==============================] - 5s 87ms/step - loss: 0.4272 - accuracy: 0.8424 - val_loss: 0.3877 - val_accuracy: 0.8604\n",
            "Epoch 30/50\n",
            "60/60 [==============================] - 5s 84ms/step - loss: 0.4204 - accuracy: 0.8449 - val_loss: 0.3833 - val_accuracy: 0.8634\n",
            "Epoch 31/50\n",
            "60/60 [==============================] - 6s 97ms/step - loss: 0.4177 - accuracy: 0.8464 - val_loss: 0.3758 - val_accuracy: 0.8600\n",
            "Epoch 32/50\n",
            "60/60 [==============================] - 5s 83ms/step - loss: 0.4163 - accuracy: 0.8475 - val_loss: 0.3733 - val_accuracy: 0.8652\n",
            "Epoch 33/50\n",
            "60/60 [==============================] - 6s 96ms/step - loss: 0.4084 - accuracy: 0.8507 - val_loss: 0.3757 - val_accuracy: 0.8639\n",
            "Epoch 34/50\n",
            "60/60 [==============================] - 5s 85ms/step - loss: 0.4067 - accuracy: 0.8511 - val_loss: 0.3731 - val_accuracy: 0.8627\n",
            "Epoch 35/50\n",
            "60/60 [==============================] - 6s 98ms/step - loss: 0.4007 - accuracy: 0.8520 - val_loss: 0.3656 - val_accuracy: 0.8663\n",
            "Epoch 36/50\n",
            "60/60 [==============================] - 5s 84ms/step - loss: 0.3965 - accuracy: 0.8530 - val_loss: 0.3697 - val_accuracy: 0.8673\n",
            "Epoch 37/50\n",
            "60/60 [==============================] - 6s 104ms/step - loss: 0.3914 - accuracy: 0.8552 - val_loss: 0.3671 - val_accuracy: 0.8687\n",
            "Epoch 38/50\n",
            "60/60 [==============================] - 6s 92ms/step - loss: 0.3952 - accuracy: 0.8529 - val_loss: 0.3683 - val_accuracy: 0.8681\n",
            "Epoch 39/50\n",
            "60/60 [==============================] - 5s 84ms/step - loss: 0.3907 - accuracy: 0.8567 - val_loss: 0.3666 - val_accuracy: 0.8667\n",
            "Epoch 40/50\n",
            "60/60 [==============================] - 6s 99ms/step - loss: 0.3862 - accuracy: 0.8557 - val_loss: 0.3622 - val_accuracy: 0.8673\n",
            "Epoch 41/50\n",
            "60/60 [==============================] - 5s 83ms/step - loss: 0.3837 - accuracy: 0.8584 - val_loss: 0.3666 - val_accuracy: 0.8667\n",
            "Epoch 42/50\n",
            "60/60 [==============================] - 6s 98ms/step - loss: 0.3804 - accuracy: 0.8599 - val_loss: 0.3615 - val_accuracy: 0.8713\n",
            "Epoch 43/50\n",
            "60/60 [==============================] - 5s 84ms/step - loss: 0.3829 - accuracy: 0.8601 - val_loss: 0.3642 - val_accuracy: 0.8670\n",
            "Epoch 44/50\n",
            "60/60 [==============================] - 6s 98ms/step - loss: 0.3793 - accuracy: 0.8584 - val_loss: 0.3577 - val_accuracy: 0.8685\n",
            "Epoch 45/50\n",
            "60/60 [==============================] - 5s 84ms/step - loss: 0.3745 - accuracy: 0.8629 - val_loss: 0.3670 - val_accuracy: 0.8703\n",
            "Epoch 46/50\n",
            "60/60 [==============================] - 6s 95ms/step - loss: 0.3734 - accuracy: 0.8623 - val_loss: 0.3603 - val_accuracy: 0.8715\n",
            "Epoch 47/50\n",
            "60/60 [==============================] - 6s 101ms/step - loss: 0.3709 - accuracy: 0.8638 - val_loss: 0.3556 - val_accuracy: 0.8732\n",
            "Epoch 48/50\n",
            "60/60 [==============================] - 5s 84ms/step - loss: 0.3676 - accuracy: 0.8622 - val_loss: 0.3696 - val_accuracy: 0.8648\n",
            "Epoch 49/50\n",
            "60/60 [==============================] - 6s 98ms/step - loss: 0.3655 - accuracy: 0.8645 - val_loss: 0.3518 - val_accuracy: 0.8738\n",
            "Epoch 50/50\n",
            "60/60 [==============================] - 5s 85ms/step - loss: 0.3665 - accuracy: 0.8641 - val_loss: 0.3449 - val_accuracy: 0.8728\n"
          ]
        }
      ]
    },
    {
      "cell_type": "code",
      "source": [
        "model.summary()"
      ],
      "metadata": {
        "colab": {
          "base_uri": "https://localhost:8080/"
        },
        "id": "mTV3UuBvChug",
        "outputId": "a26ad437-7cbe-438e-e821-deb706c1afc6"
      },
      "execution_count": null,
      "outputs": [
        {
          "output_type": "stream",
          "name": "stdout",
          "text": [
            "Model: \"sequential_1\"\n",
            "_________________________________________________________________\n",
            " Layer (type)                Output Shape              Param #   \n",
            "=================================================================\n",
            " flatten_1 (Flatten)         (None, 784)               0         \n",
            "                                                                 \n",
            " dropout_3 (Dropout)         (None, 784)               0         \n",
            "                                                                 \n",
            " dense_3 (Dense)             (None, 784)               615440    \n",
            "                                                                 \n",
            " dropout_4 (Dropout)         (None, 784)               0         \n",
            "                                                                 \n",
            " dense_4 (Dense)             (None, 392)               307720    \n",
            "                                                                 \n",
            " dropout_5 (Dropout)         (None, 392)               0         \n",
            "                                                                 \n",
            " dense_5 (Dense)             (None, 10)                3930      \n",
            "                                                                 \n",
            "=================================================================\n",
            "Total params: 927,090\n",
            "Trainable params: 927,090\n",
            "Non-trainable params: 0\n",
            "_________________________________________________________________\n"
          ]
        }
      ]
    },
    {
      "cell_type": "code",
      "source": [
        "# Evaluate the model\n",
        "test_loss, test_acc = model.evaluate(X_test_images, y_test_labels, verbose=2)\n",
        "print('Test accuracy:', test_acc)"
      ],
      "metadata": {
        "colab": {
          "base_uri": "https://localhost:8080/"
        },
        "id": "d1_YZ6THBO85",
        "outputId": "ca245f0f-5020-45c7-824f-5c653af2ce1b"
      },
      "execution_count": null,
      "outputs": [
        {
          "output_type": "stream",
          "name": "stdout",
          "text": [
            "313/313 - 1s - loss: 0.3449 - accuracy: 0.8728 - 1s/epoch - 4ms/step\n",
            "Test accuracy: 0.8727999925613403\n"
          ]
        }
      ]
    },
    {
      "cell_type": "code",
      "source": [
        "\n",
        "# summarize the history for accuracy\n",
        "plt.plot(history.history['accuracy'])\n",
        "plt.plot(history.history['val_accuracy'])\n",
        "plt.title('model accuracy')\n",
        "plt.ylabel('accuracy')\n",
        "plt.xlabel('epoch')\n",
        "plt.legend(['train','test'], loc='upper left')\n",
        "plt.show()\n",
        "\n",
        "# summarize the history for loss\n",
        "plt.plot(history.history['loss'])\n",
        "plt.plot(history.history['val_loss'])\n",
        "plt.title('model loss')\n",
        "plt.ylabel('loss')\n",
        "plt.xlabel('epoch')\n",
        "plt.legend(['train','test'], loc='upper left')\n",
        "plt.show()"
      ],
      "metadata": {
        "colab": {
          "base_uri": "https://localhost:8080/",
          "height": 594
        },
        "id": "MH9sy_kKBTMJ",
        "outputId": "36555026-8432-44a7-8bf7-8c1cf4502819"
      },
      "execution_count": null,
      "outputs": [
        {
          "output_type": "display_data",
          "data": {
            "text/plain": [
              "<Figure size 432x288 with 1 Axes>"
            ],
            "image/png": "[encoded data removed]"
          },
          "metadata": {
            "needs_background": "light"
          }
        },
        {
          "output_type": "display_data",
          "data": {
            "text/plain": [
              "<Figure size 432x288 with 1 Axes>"
            ],
            "image/png": "[encoded data removed]"
          },
          "metadata": {
            "needs_background": "light"
          }
        }
      ]
    }
  ]
}